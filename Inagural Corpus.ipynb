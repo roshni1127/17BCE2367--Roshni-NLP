{
 "cells": [
  {
   "cell_type": "code",
   "execution_count": 1,
   "metadata": {},
   "outputs": [],
   "source": [
    "import nltk\n",
    "from nltk.corpus import brown"
   ]
  },
  {
   "cell_type": "code",
   "execution_count": 2,
   "metadata": {},
   "outputs": [
    {
     "name": "stderr",
     "output_type": "stream",
     "text": [
      "[nltk_data] Downloading package inaugural to C:\\Users\\Bhanu\n",
      "[nltk_data]     Kiran\\AppData\\Roaming\\nltk_data...\n",
      "[nltk_data]   Package inaugural is already up-to-date!\n",
      "[nltk_data] Downloading collection 'book'\n",
      "[nltk_data]    | \n",
      "[nltk_data]    | Downloading package abc to C:\\Users\\Bhanu\n",
      "[nltk_data]    |     Kiran\\AppData\\Roaming\\nltk_data...\n",
      "[nltk_data]    |   Package abc is already up-to-date!\n",
      "[nltk_data]    | Downloading package brown to C:\\Users\\Bhanu\n",
      "[nltk_data]    |     Kiran\\AppData\\Roaming\\nltk_data...\n",
      "[nltk_data]    |   Package brown is already up-to-date!\n",
      "[nltk_data]    | Downloading package chat80 to C:\\Users\\Bhanu\n",
      "[nltk_data]    |     Kiran\\AppData\\Roaming\\nltk_data...\n",
      "[nltk_data]    |   Package chat80 is already up-to-date!\n",
      "[nltk_data]    | Downloading package cmudict to C:\\Users\\Bhanu\n",
      "[nltk_data]    |     Kiran\\AppData\\Roaming\\nltk_data...\n",
      "[nltk_data]    |   Package cmudict is already up-to-date!\n",
      "[nltk_data]    | Downloading package conll2000 to C:\\Users\\Bhanu\n",
      "[nltk_data]    |     Kiran\\AppData\\Roaming\\nltk_data...\n",
      "[nltk_data]    |   Package conll2000 is already up-to-date!\n",
      "[nltk_data]    | Downloading package conll2002 to C:\\Users\\Bhanu\n",
      "[nltk_data]    |     Kiran\\AppData\\Roaming\\nltk_data...\n",
      "[nltk_data]    |   Package conll2002 is already up-to-date!\n",
      "[nltk_data]    | Downloading package dependency_treebank to\n",
      "[nltk_data]    |     C:\\Users\\Bhanu Kiran\\AppData\\Roaming\\nltk_data...\n",
      "[nltk_data]    |   Package dependency_treebank is already up-to-date!\n",
      "[nltk_data]    | Downloading package genesis to C:\\Users\\Bhanu\n",
      "[nltk_data]    |     Kiran\\AppData\\Roaming\\nltk_data...\n",
      "[nltk_data]    |   Package genesis is already up-to-date!\n",
      "[nltk_data]    | Downloading package gutenberg to C:\\Users\\Bhanu\n",
      "[nltk_data]    |     Kiran\\AppData\\Roaming\\nltk_data...\n",
      "[nltk_data]    |   Package gutenberg is already up-to-date!\n",
      "[nltk_data]    | Downloading package ieer to C:\\Users\\Bhanu\n",
      "[nltk_data]    |     Kiran\\AppData\\Roaming\\nltk_data...\n",
      "[nltk_data]    |   Package ieer is already up-to-date!\n",
      "[nltk_data]    | Downloading package inaugural to C:\\Users\\Bhanu\n",
      "[nltk_data]    |     Kiran\\AppData\\Roaming\\nltk_data...\n",
      "[nltk_data]    |   Package inaugural is already up-to-date!\n",
      "[nltk_data]    | Downloading package movie_reviews to C:\\Users\\Bhanu\n",
      "[nltk_data]    |     Kiran\\AppData\\Roaming\\nltk_data...\n",
      "[nltk_data]    |   Package movie_reviews is already up-to-date!\n",
      "[nltk_data]    | Downloading package nps_chat to C:\\Users\\Bhanu\n",
      "[nltk_data]    |     Kiran\\AppData\\Roaming\\nltk_data...\n",
      "[nltk_data]    |   Package nps_chat is already up-to-date!\n",
      "[nltk_data]    | Downloading package names to C:\\Users\\Bhanu\n",
      "[nltk_data]    |     Kiran\\AppData\\Roaming\\nltk_data...\n",
      "[nltk_data]    |   Package names is already up-to-date!\n",
      "[nltk_data]    | Downloading package ppattach to C:\\Users\\Bhanu\n",
      "[nltk_data]    |     Kiran\\AppData\\Roaming\\nltk_data...\n",
      "[nltk_data]    |   Package ppattach is already up-to-date!\n",
      "[nltk_data]    | Downloading package reuters to C:\\Users\\Bhanu\n",
      "[nltk_data]    |     Kiran\\AppData\\Roaming\\nltk_data...\n",
      "[nltk_data]    |   Package reuters is already up-to-date!\n",
      "[nltk_data]    | Downloading package senseval to C:\\Users\\Bhanu\n",
      "[nltk_data]    |     Kiran\\AppData\\Roaming\\nltk_data...\n",
      "[nltk_data]    |   Package senseval is already up-to-date!\n",
      "[nltk_data]    | Downloading package state_union to C:\\Users\\Bhanu\n",
      "[nltk_data]    |     Kiran\\AppData\\Roaming\\nltk_data...\n",
      "[nltk_data]    |   Package state_union is already up-to-date!\n",
      "[nltk_data]    | Downloading package stopwords to C:\\Users\\Bhanu\n",
      "[nltk_data]    |     Kiran\\AppData\\Roaming\\nltk_data...\n",
      "[nltk_data]    |   Package stopwords is already up-to-date!\n",
      "[nltk_data]    | Downloading package swadesh to C:\\Users\\Bhanu\n",
      "[nltk_data]    |     Kiran\\AppData\\Roaming\\nltk_data...\n",
      "[nltk_data]    |   Package swadesh is already up-to-date!\n",
      "[nltk_data]    | Downloading package timit to C:\\Users\\Bhanu\n",
      "[nltk_data]    |     Kiran\\AppData\\Roaming\\nltk_data...\n",
      "[nltk_data]    |   Package timit is already up-to-date!\n",
      "[nltk_data]    | Downloading package treebank to C:\\Users\\Bhanu\n",
      "[nltk_data]    |     Kiran\\AppData\\Roaming\\nltk_data...\n",
      "[nltk_data]    |   Package treebank is already up-to-date!\n",
      "[nltk_data]    | Downloading package toolbox to C:\\Users\\Bhanu\n",
      "[nltk_data]    |     Kiran\\AppData\\Roaming\\nltk_data...\n",
      "[nltk_data]    |   Package toolbox is already up-to-date!\n",
      "[nltk_data]    | Downloading package udhr to C:\\Users\\Bhanu\n",
      "[nltk_data]    |     Kiran\\AppData\\Roaming\\nltk_data...\n",
      "[nltk_data]    |   Package udhr is already up-to-date!\n",
      "[nltk_data]    | Downloading package udhr2 to C:\\Users\\Bhanu\n",
      "[nltk_data]    |     Kiran\\AppData\\Roaming\\nltk_data...\n",
      "[nltk_data]    |   Package udhr2 is already up-to-date!\n",
      "[nltk_data]    | Downloading package unicode_samples to C:\\Users\\Bhanu\n",
      "[nltk_data]    |     Kiran\\AppData\\Roaming\\nltk_data...\n",
      "[nltk_data]    |   Package unicode_samples is already up-to-date!\n",
      "[nltk_data]    | Downloading package webtext to C:\\Users\\Bhanu\n",
      "[nltk_data]    |     Kiran\\AppData\\Roaming\\nltk_data...\n",
      "[nltk_data]    |   Package webtext is already up-to-date!\n",
      "[nltk_data]    | Downloading package wordnet to C:\\Users\\Bhanu\n",
      "[nltk_data]    |     Kiran\\AppData\\Roaming\\nltk_data...\n",
      "[nltk_data]    |   Package wordnet is already up-to-date!\n",
      "[nltk_data]    | Downloading package wordnet_ic to C:\\Users\\Bhanu\n",
      "[nltk_data]    |     Kiran\\AppData\\Roaming\\nltk_data...\n",
      "[nltk_data]    |   Package wordnet_ic is already up-to-date!\n",
      "[nltk_data]    | Downloading package words to C:\\Users\\Bhanu\n",
      "[nltk_data]    |     Kiran\\AppData\\Roaming\\nltk_data...\n",
      "[nltk_data]    |   Package words is already up-to-date!\n",
      "[nltk_data]    | Downloading package maxent_treebank_pos_tagger to\n",
      "[nltk_data]    |     C:\\Users\\Bhanu Kiran\\AppData\\Roaming\\nltk_data...\n",
      "[nltk_data]    |   Package maxent_treebank_pos_tagger is already up-\n",
      "[nltk_data]    |       to-date!\n",
      "[nltk_data]    | Downloading package maxent_ne_chunker to\n",
      "[nltk_data]    |     C:\\Users\\Bhanu Kiran\\AppData\\Roaming\\nltk_data...\n",
      "[nltk_data]    |   Package maxent_ne_chunker is already up-to-date!\n",
      "[nltk_data]    | Downloading package universal_tagset to\n",
      "[nltk_data]    |     C:\\Users\\Bhanu Kiran\\AppData\\Roaming\\nltk_data...\n",
      "[nltk_data]    |   Package universal_tagset is already up-to-date!\n",
      "[nltk_data]    | Downloading package punkt to C:\\Users\\Bhanu\n",
      "[nltk_data]    |     Kiran\\AppData\\Roaming\\nltk_data...\n",
      "[nltk_data]    |   Package punkt is already up-to-date!\n",
      "[nltk_data]    | Downloading package book_grammars to C:\\Users\\Bhanu\n",
      "[nltk_data]    |     Kiran\\AppData\\Roaming\\nltk_data...\n",
      "[nltk_data]    |   Package book_grammars is already up-to-date!\n",
      "[nltk_data]    | Downloading package city_database to C:\\Users\\Bhanu\n",
      "[nltk_data]    |     Kiran\\AppData\\Roaming\\nltk_data...\n",
      "[nltk_data]    |   Package city_database is already up-to-date!\n",
      "[nltk_data]    | Downloading package tagsets to C:\\Users\\Bhanu\n",
      "[nltk_data]    |     Kiran\\AppData\\Roaming\\nltk_data...\n",
      "[nltk_data]    |   Package tagsets is already up-to-date!\n",
      "[nltk_data]    | Downloading package panlex_swadesh to C:\\Users\\Bhanu\n",
      "[nltk_data]    |     Kiran\\AppData\\Roaming\\nltk_data...\n",
      "[nltk_data]    |   Package panlex_swadesh is already up-to-date!\n",
      "[nltk_data]    | Downloading package averaged_perceptron_tagger to\n",
      "[nltk_data]    |     C:\\Users\\Bhanu Kiran\\AppData\\Roaming\\nltk_data...\n",
      "[nltk_data]    |   Package averaged_perceptron_tagger is already up-\n",
      "[nltk_data]    |       to-date!\n",
      "[nltk_data]    | \n",
      "[nltk_data]  Done downloading collection book\n"
     ]
    },
    {
     "name": "stdout",
     "output_type": "stream",
     "text": [
      "showing info https://raw.githubusercontent.com/nltk/nltk_data/gh-pages/index.xml\n"
     ]
    },
    {
     "data": {
      "text/plain": [
       "True"
      ]
     },
     "execution_count": 2,
     "metadata": {},
     "output_type": "execute_result"
    }
   ],
   "source": [
    "nltk.download('inaugural')\n",
    "nltk.download('book')\n",
    "nltk.download()"
   ]
  },
  {
   "cell_type": "code",
   "execution_count": 3,
   "metadata": {},
   "outputs": [
    {
     "name": "stdout",
     "output_type": "stream",
     "text": [
      "['Dan', 'Morgan', 'told', 'himself', 'he', 'would', ...]\n"
     ]
    }
   ],
   "source": [
    "brown.categories()\n",
    "print(brown.words(categories='adventure'))"
   ]
  },
  {
   "cell_type": "code",
   "execution_count": 4,
   "metadata": {},
   "outputs": [],
   "source": [
    "from nltk.corpus import inaugural"
   ]
  },
  {
   "cell_type": "code",
   "execution_count": 5,
   "metadata": {},
   "outputs": [
    {
     "data": {
      "text/plain": [
       "['My', 'fellow', 'citizens', ':', 'I', 'stand', 'here', ...]"
      ]
     },
     "execution_count": 5,
     "metadata": {},
     "output_type": "execute_result"
    }
   ],
   "source": [
    "inaugural.fileids()\n",
    "inaugural.words(fileids='1861-Lincoln.txt')[0:10]\n",
    "inaugural.words(fileids='2009-Obama.txt')"
   ]
  },
  {
   "cell_type": "code",
   "execution_count": 6,
   "metadata": {},
   "outputs": [
    {
     "name": "stdout",
     "output_type": "stream",
     "text": [
      "*** Introductory Examples for the NLTK Book ***\n",
      "Loading text1, ..., text9 and sent1, ..., sent9\n",
      "Type the name of the text or sentence to view it.\n",
      "Type: 'texts()' or 'sents()' to list the materials.\n",
      "text1: Moby Dick by Herman Melville 1851\n",
      "text2: Sense and Sensibility by Jane Austen 1811\n",
      "text3: The Book of Genesis\n",
      "text4: Inaugural Address Corpus\n",
      "text5: Chat Corpus\n",
      "text6: Monty Python and the Holy Grail\n",
      "text7: Wall Street Journal\n",
      "text8: Personals Corpus\n",
      "text9: The Man Who Was Thursday by G . K . Chesterton 1908\n"
     ]
    }
   ],
   "source": [
    "from nltk.book import *"
   ]
  },
  {
   "cell_type": "code",
   "execution_count": 7,
   "metadata": {},
   "outputs": [
    {
     "data": {
      "text/plain": [
       "[(',', 130),\n",
       " ('the', 126),\n",
       " ('.', 108),\n",
       " ('and', 105),\n",
       " ('of', 82),\n",
       " ('to', 66),\n",
       " ('our', 58),\n",
       " ('we', 50),\n",
       " ('that', 48),\n",
       " ('a', 47),\n",
       " ('is', 36),\n",
       " ('us', 23),\n",
       " ('in', 22),\n",
       " ('are', 22),\n",
       " (';', 22),\n",
       " ('--', 22),\n",
       " ('this', 20),\n",
       " ('will', 19),\n",
       " ('but', 17),\n",
       " ('have', 16),\n",
       " ('not', 16),\n",
       " ('for', 15),\n",
       " ('on', 15),\n",
       " ('it', 15),\n",
       " ('you', 14),\n",
       " ('has', 14),\n",
       " ('who', 14),\n",
       " (\"'\", 13),\n",
       " ('can', 13),\n",
       " ('nation', 12),\n",
       " ('We', 12),\n",
       " ('be', 12),\n",
       " ('s', 12),\n",
       " ('or', 11),\n",
       " ('with', 11),\n",
       " ('new', 11),\n",
       " ('they', 11),\n",
       " ('America', 10),\n",
       " ('those', 10),\n",
       " ('as', 9),\n",
       " ('-', 9),\n",
       " ('The', 9),\n",
       " ('Our', 9),\n",
       " ('their', 9),\n",
       " ('by', 8),\n",
       " ('been', 8),\n",
       " ('every', 8),\n",
       " ('because', 8),\n",
       " ('must', 8),\n",
       " ('For', 8),\n",
       " ('than', 8),\n",
       " ('these', 7),\n",
       " ('no', 7),\n",
       " ('its', 7),\n",
       " ('all', 7),\n",
       " ('when', 7),\n",
       " ('do', 7),\n",
       " ('world', 7),\n",
       " ('so', 6),\n",
       " ('at', 6),\n",
       " ('too', 6),\n",
       " ('less', 6),\n",
       " ('They', 6),\n",
       " ('work', 6),\n",
       " ('And', 6),\n",
       " ('cannot', 6),\n",
       " ('common', 6),\n",
       " ('people', 6),\n",
       " ('today', 5),\n",
       " ('now', 5),\n",
       " ('generation', 5),\n",
       " ('day', 5),\n",
       " ('time', 5),\n",
       " ('know', 5),\n",
       " ('spirit', 5),\n",
       " ('from', 5),\n",
       " ('God', 5),\n",
       " ('only', 5),\n",
       " ('more', 5),\n",
       " ('what', 5),\n",
       " ('was', 5),\n",
       " ('let', 5),\n",
       " (':', 4),\n",
       " ('before', 4),\n",
       " ('words', 4),\n",
       " ('peace', 4),\n",
       " ('crisis', 4),\n",
       " ('far', 4),\n",
       " ('hard', 4),\n",
       " ('come', 4),\n",
       " ('end', 4),\n",
       " ('long', 4),\n",
       " ('things', 4),\n",
       " ('It', 4),\n",
       " ('seek', 4),\n",
       " ('men', 4),\n",
       " ('women', 4),\n",
       " ('up', 4),\n",
       " ('greater', 4),\n",
       " ('This', 4)]"
      ]
     },
     "execution_count": 7,
     "metadata": {},
     "output_type": "execute_result"
    }
   ],
   "source": [
    "f = nltk.FreqDist(inaugural.words(fileids='2009-Obama.txt'))\n",
    "f.most_common(100)"
   ]
  },
  {
   "cell_type": "code",
   "execution_count": null,
   "metadata": {},
   "outputs": [],
   "source": []
  }
 ],
 "metadata": {
  "kernelspec": {
   "display_name": "Python 3",
   "language": "python",
   "name": "python3"
  },
  "language_info": {
   "codemirror_mode": {
    "name": "ipython",
    "version": 3
   },
   "file_extension": ".py",
   "mimetype": "text/x-python",
   "name": "python",
   "nbconvert_exporter": "python",
   "pygments_lexer": "ipython3",
   "version": "3.7.4"
  }
 },
 "nbformat": 4,
 "nbformat_minor": 2
}
