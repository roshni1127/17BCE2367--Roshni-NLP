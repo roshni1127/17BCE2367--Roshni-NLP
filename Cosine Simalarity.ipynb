{
 "cells": [
  {
   "cell_type": "code",
   "execution_count": 1,
   "metadata": {},
   "outputs": [],
   "source": [
    "imitation = \"\"\"\"The Imitation Game is a 2014 British historical drama film directed by Morten Tyldum and written by Graham Moore, based on the 1983 biography Alan Turing: The Enigma by Andrew Hodges. The title of the film quotes the name of the game Alan Turing proposed for answering the question \"Can machines think?\", in his 1950 seminal paper \"Computing Machinery and Intelligence\". It stars Benedict Cumberbatch as British cryptanalyst Alan Turing, who decrypted German intelligence messages for the British government during the Second World War. Keira Knightley, Matthew Goode, Rory Kinnear, Charles Dance, and Mark Strong also star.\n",
    "\n",
    "The screenplay topped the annual Black List for best unproduced Hollywood scripts in 2011. The Weinstein Company acquired the film for $7 million in February 2014, the highest amount ever paid for U.S. distribution rights at the European Film Market. It was released theatrically in the United States on 28 November 2014.\n",
    "\n",
    "The Imitation Game grossed over $233 million worldwide on a $14 million production budget, making it the highest-grossing independent film of 2014. It received eight nominations at the 87th Academy Awards, winning for Best Adapted Screenplay, five nominations in the 72nd Golden Globe Awards, and three nominations at the 21st Screen Actors Guild Awards. It also received nine BAFTA nominations and won the People's Choice Award at the 39th Toronto International Film Festival.\n",
    "\n",
    "The film was criticised by some for its inaccurate portrayal of historical events and for downplaying Turing's homosexuality. However, the LGBT civil rights advocacy organisation the Human Rights Campaign honoured it for bringing Turing's legacy to a wider audience.\"\"\""
   ]
  },
  {
   "cell_type": "code",
   "execution_count": 2,
   "metadata": {},
   "outputs": [],
   "source": [
    "infinity = \"\"\"\"The Man Who Knew Infinity is a 2015 British biographical drama film about the Indian mathematician Srinivasa Ramanujan, based on the 1991 book of the same name by Robert Kanigel.\n",
    "\n",
    "The film stars Dev Patel as Srinivasa Ramanujan, a real-life mathematician who, after growing up poor in Madras, India, earns admittance to Cambridge University during World War I, where he becomes a pioneer in mathematical theories with the guidance of his professor, G. H. Hardy, portrayed by Jeremy Irons.\n",
    "\n",
    "Filming began in August 2014 at Trinity College, Cambridge.[3] The film had its world premiere as a gala presentation at the 2015 Toronto International Film Festival,[4][5] and was selected as the opening gala of the 2015 Zurich Film Festival.[6] It also played other film festivals including Singapore International Film Festival[7] and Dubai International Film Festival.[8]\"\"\""
   ]
  },
  {
   "cell_type": "code",
   "execution_count": 3,
   "metadata": {},
   "outputs": [],
   "source": [
    "movie = [imitation,infinity]"
   ]
  },
  {
   "cell_type": "code",
   "execution_count": 4,
   "metadata": {},
   "outputs": [],
   "source": [
    "from sklearn.feature_extraction.text import CountVectorizer\n",
    "import pandas as pd"
   ]
  },
  {
   "cell_type": "code",
   "execution_count": 5,
   "metadata": {},
   "outputs": [],
   "source": [
    "count_vec = CountVectorizer(stop_words='english')\n",
    "matrix = count_vec.fit_transform(movie)\n",
    "matrix = matrix.todense()\n",
    "dataframe = pd.DataFrame(matrix,columns=count_vec.get_feature_names(),index=['Imitation','Infinity']) "
   ]
  },
  {
   "cell_type": "code",
   "execution_count": 7,
   "metadata": {},
   "outputs": [
    {
     "data": {
      "text/html": [
       "<div>\n",
       "<style scoped>\n",
       "    .dataframe tbody tr th:only-of-type {\n",
       "        vertical-align: middle;\n",
       "    }\n",
       "\n",
       "    .dataframe tbody tr th {\n",
       "        vertical-align: top;\n",
       "    }\n",
       "\n",
       "    .dataframe thead th {\n",
       "        text-align: right;\n",
       "    }\n",
       "</style>\n",
       "<table border=\"1\" class=\"dataframe\">\n",
       "  <thead>\n",
       "    <tr style=\"text-align: right;\">\n",
       "      <th></th>\n",
       "      <th>14</th>\n",
       "      <th>1950</th>\n",
       "      <th>1983</th>\n",
       "      <th>1991</th>\n",
       "      <th>2011</th>\n",
       "      <th>2014</th>\n",
       "      <th>2015</th>\n",
       "      <th>21st</th>\n",
       "      <th>233</th>\n",
       "      <th>28</th>\n",
       "      <th>...</th>\n",
       "      <th>unproduced</th>\n",
       "      <th>war</th>\n",
       "      <th>weinstein</th>\n",
       "      <th>wider</th>\n",
       "      <th>winning</th>\n",
       "      <th>won</th>\n",
       "      <th>world</th>\n",
       "      <th>worldwide</th>\n",
       "      <th>written</th>\n",
       "      <th>zurich</th>\n",
       "    </tr>\n",
       "  </thead>\n",
       "  <tbody>\n",
       "    <tr>\n",
       "      <th>Imitation</th>\n",
       "      <td>1</td>\n",
       "      <td>1</td>\n",
       "      <td>1</td>\n",
       "      <td>0</td>\n",
       "      <td>1</td>\n",
       "      <td>4</td>\n",
       "      <td>0</td>\n",
       "      <td>1</td>\n",
       "      <td>1</td>\n",
       "      <td>1</td>\n",
       "      <td>...</td>\n",
       "      <td>1</td>\n",
       "      <td>1</td>\n",
       "      <td>1</td>\n",
       "      <td>1</td>\n",
       "      <td>1</td>\n",
       "      <td>1</td>\n",
       "      <td>1</td>\n",
       "      <td>1</td>\n",
       "      <td>1</td>\n",
       "      <td>0</td>\n",
       "    </tr>\n",
       "    <tr>\n",
       "      <th>Infinity</th>\n",
       "      <td>0</td>\n",
       "      <td>0</td>\n",
       "      <td>0</td>\n",
       "      <td>1</td>\n",
       "      <td>0</td>\n",
       "      <td>1</td>\n",
       "      <td>3</td>\n",
       "      <td>0</td>\n",
       "      <td>0</td>\n",
       "      <td>0</td>\n",
       "      <td>...</td>\n",
       "      <td>0</td>\n",
       "      <td>1</td>\n",
       "      <td>0</td>\n",
       "      <td>0</td>\n",
       "      <td>0</td>\n",
       "      <td>0</td>\n",
       "      <td>2</td>\n",
       "      <td>0</td>\n",
       "      <td>0</td>\n",
       "      <td>1</td>\n",
       "    </tr>\n",
       "  </tbody>\n",
       "</table>\n",
       "<p>2 rows × 182 columns</p>\n",
       "</div>"
      ],
      "text/plain": [
       "           14  1950  1983  1991  2011  2014  2015  21st  233  28  ...  \\\n",
       "Imitation   1     1     1     0     1     4     0     1    1   1  ...   \n",
       "Infinity    0     0     0     1     0     1     3     0    0   0  ...   \n",
       "\n",
       "           unproduced  war  weinstein  wider  winning  won  world  worldwide  \\\n",
       "Imitation           1    1          1      1        1    1      1          1   \n",
       "Infinity            0    1          0      0        0    0      2          0   \n",
       "\n",
       "           written  zurich  \n",
       "Imitation        1       0  \n",
       "Infinity         0       1  \n",
       "\n",
       "[2 rows x 182 columns]"
      ]
     },
     "execution_count": 7,
     "metadata": {},
     "output_type": "execute_result"
    }
   ],
   "source": [
    "dataframe.head()"
   ]
  },
  {
   "cell_type": "code",
   "execution_count": 8,
   "metadata": {},
   "outputs": [
    {
     "name": "stdout",
     "output_type": "stream",
     "text": [
      "[[1.         0.33631509]\n",
      " [0.33631509 1.        ]]\n"
     ]
    }
   ],
   "source": [
    "from sklearn.metrics.pairwise import cosine_similarity\n",
    "print(cosine_similarity(dataframe, dataframe))"
   ]
  },
  {
   "cell_type": "code",
   "execution_count": null,
   "metadata": {},
   "outputs": [],
   "source": []
  }
 ],
 "metadata": {
  "kernelspec": {
   "display_name": "Python 3",
   "language": "python",
   "name": "python3"
  },
  "language_info": {
   "codemirror_mode": {
    "name": "ipython",
    "version": 3
   },
   "file_extension": ".py",
   "mimetype": "text/x-python",
   "name": "python",
   "nbconvert_exporter": "python",
   "pygments_lexer": "ipython3",
   "version": "3.7.4"
  }
 },
 "nbformat": 4,
 "nbformat_minor": 2
}
